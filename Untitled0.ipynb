{
  "nbformat": 4,
  "nbformat_minor": 0,
  "metadata": {
    "colab": {
      "provenance": [],
      "authorship_tag": "ABX9TyMu1Isli/tmvDUjVvP+mgwr",
      "include_colab_link": true
    },
    "kernelspec": {
      "name": "python3",
      "display_name": "Python 3"
    },
    "language_info": {
      "name": "python"
    }
  },
  "cells": [
    {
      "cell_type": "markdown",
      "metadata": {
        "id": "view-in-github",
        "colab_type": "text"
      },
      "source": [
        "<a href=\"https://colab.research.google.com/github/kmnishashukla/JVT_InfoTech/blob/main/Untitled0.ipynb\" target=\"_parent\"><img src=\"https://colab.research.google.com/assets/colab-badge.svg\" alt=\"Open In Colab\"/></a>"
      ]
    },
    {
      "cell_type": "code",
      "execution_count": null,
      "metadata": {
        "colab": {
          "base_uri": "https://localhost:8080/"
        },
        "id": "aRuEGkc5CLXz",
        "outputId": "b86cee71-e525-441d-c0ac-295e217b4bcf"
      },
      "outputs": [
        {
          "output_type": "stream",
          "name": "stdout",
          "text": [
            "hello\n"
          ]
        }
      ],
      "source": [
        "print(\"hello\")"
      ]
    },
    {
      "cell_type": "code",
      "source": [],
      "metadata": {
        "id": "VZh31DBHCVIL"
      },
      "execution_count": null,
      "outputs": []
    },
    {
      "cell_type": "code",
      "source": [
        "print(\"nisha\")"
      ],
      "metadata": {
        "id": "p4q5hLSjCa75",
        "outputId": "aaab2cd6-dfdb-44f4-cdf1-38581a76f69a",
        "colab": {
          "base_uri": "https://localhost:8080/"
        }
      },
      "execution_count": null,
      "outputs": [
        {
          "output_type": "stream",
          "name": "stdout",
          "text": [
            "nisha\n"
          ]
        }
      ]
    },
    {
      "cell_type": "code",
      "source": [
        "# 2. Take User input and decode logic\n",
        "#  ● Take 2 integer input from user and print their products(their multiplication)\n",
        "#  ● IF product is greater than 500 then return their sum\n",
        "#  ● If the product is smaller than 500 then return \"Hello LNB code is running fine !!\"\n",
        "#  ● file name must be lnbcal.py in which you are writing code\n",
        "#  ● commit this code on your github link under pythonbasic branch\n",
        "\n",
        "\n",
        "num1 = int(input(\"Enter first number: \"))\n",
        "num2 = int(input(\"Enter second number: \"))\n",
        "product = num1 * num2\n",
        "if product > 500:\n",
        "    print(\"Sum of the numbers is:\", num1 + num2)\n",
        "else:\n",
        "    print(\"Hello LNB code is running fine !!\")"
      ],
      "metadata": {
        "colab": {
          "base_uri": "https://localhost:8080/"
        },
        "id": "GWLomI2DDhjh",
        "outputId": "03deb7b1-7808-4442-893d-6a3f7b874816"
      },
      "execution_count": 3,
      "outputs": [
        {
          "output_type": "stream",
          "name": "stdout",
          "text": [
            "Enter first number: 555\n",
            "Enter second number: 6666\n",
            "Sum of the numbers is: 7221\n"
          ]
        }
      ]
    },
    {
      "cell_type": "code",
      "source": [],
      "metadata": {
        "id": "mT3rzUiGDzoP"
      },
      "execution_count": null,
      "outputs": []
    }
  ]
}