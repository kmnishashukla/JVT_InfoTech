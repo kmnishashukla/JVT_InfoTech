{
  "nbformat": 4,
  "nbformat_minor": 0,
  "metadata": {
    "colab": {
      "provenance": [],
      "authorship_tag": "ABX9TyMan3zIAeY1V+IFGxecOVK7",
      "include_colab_link": true
    },
    "kernelspec": {
      "name": "python3",
      "display_name": "Python 3"
    },
    "language_info": {
      "name": "python"
    }
  },
  "cells": [
    {
      "cell_type": "markdown",
      "metadata": {
        "id": "view-in-github",
        "colab_type": "text"
      },
      "source": [
        "<a href=\"https://colab.research.google.com/github/kmnishashukla/JVT_InfoTech/blob/main/python_09_03_24_.ipynb\" target=\"_parent\"><img src=\"https://colab.research.google.com/assets/colab-badge.svg\" alt=\"Open In Colab\"/></a>"
      ]
    },
    {
      "cell_type": "code",
      "execution_count": null,
      "metadata": {
        "id": "up8R0xqvxOLk"
      },
      "outputs": [],
      "source": []
    },
    {
      "cell_type": "code",
      "source": [
        "# question1\n",
        "# Q1.Vohra went to a movie with his friends in a Wave theater and during break time he bought pizzas, puffs and cool drinks. Consider the following prices : Rs.100/pizza Rs.20/puffs Rs.10/cooldrink Generate a bill for What Vohra has bought.\n",
        "# Input: Enter the no of pizzas bought:10 Enter the no of puffs bought:12 Enter the no of cool drinks bought:5\n",
        "# Output : Bill Details No of pizzas:10 No of puffs:12 No of cooldrinks:5 Total price=1290\n",
        "\n",
        "def generate_bill(pizzas, puffs, drinks):\n",
        "    items = ['pizza', 'puff', 'drink']\n",
        "    prices = [100, 20, 10]\n",
        "\n",
        "    total_price = sum([p * q for p, q in zip([pizzas, puffs, drinks], prices)])\n",
        "\n",
        "    return total_price\n",
        "\n",
        "pizzas = int(input(\"Enter the no of pizzas bought: \"))\n",
        "puffs = int(input(\"Enter the no of puffs bought: \"))\n",
        "drinks = int(input(\"Enter the no of cool drinks bought: \"))\n",
        "\n",
        "total_price = generate_bill(pizzas, puffs, drinks)\n",
        "print(\"Bill Details\")\n",
        "print(\"No of pizzas:\", pizzas)\n",
        "print(\"No of puffs:\", puffs)\n",
        "print(\"No of cooldrinks:\", drinks)\n",
        "print(\"Total price=\", total_price)"
      ],
      "metadata": {
        "colab": {
          "base_uri": "https://localhost:8080/"
        },
        "id": "yD5jox-bxlbP",
        "outputId": "dc4ce3b5-e97b-435e-be08-d7b6b7c2302e"
      },
      "execution_count": 4,
      "outputs": [
        {
          "output_type": "stream",
          "name": "stdout",
          "text": [
            "Enter the no of pizzas bought: 1\n",
            "Enter the no of puffs bought: 2\n",
            "Enter the no of cool drinks bought: 1\n",
            "Bill Details\n",
            "No of pizzas: 1\n",
            "No of puffs: 2\n",
            "No of cooldrinks: 1\n",
            "Total price= 150\n"
          ]
        }
      ]
    },
    {
      "cell_type": "code",
      "source": [
        "# Q2. To calculate the total number of steps taken to climb a certain number of stairs.\n",
        "# The user is prompted to input the total number of stairs (m) and the number of stairs\n",
        "# covered in each step (n).\n",
        "# Example:-\n",
        "# Enter the number of stairs:13\n",
        "# Enter the number of steps:2\n",
        "# Total steps taken:7\n",
        "def total_steps(stairs, steps_per_step):\n",
        "    if stairs <= 0:\n",
        "        return 0\n",
        "    return 1 + total_steps(stairs - steps_per_step, steps_per_step)\n",
        "\n",
        "stairs = int(input(\"Enter the number of stairs: \"))\n",
        "steps_per_step = int(input(\"Enter the number of steps: \"))\n",
        "\n",
        "total = total_steps(stairs, steps_per_step)\n",
        "print(\"Total steps taken:\", total)\n"
      ],
      "metadata": {
        "colab": {
          "base_uri": "https://localhost:8080/"
        },
        "id": "IQkQM6WcyEJu",
        "outputId": "be6959bb-ee29-4172-91a3-ca7cc2ffc0ac"
      },
      "execution_count": 5,
      "outputs": [
        {
          "output_type": "stream",
          "name": "stdout",
          "text": [
            "Enter the number of stairs: 2\n",
            "Enter the number of steps: 1\n",
            "Total steps taken: 2\n"
          ]
        }
      ]
    },
    {
      "cell_type": "code",
      "source": [
        "print(\"nisha\")"
      ],
      "metadata": {
        "colab": {
          "base_uri": "https://localhost:8080/"
        },
        "id": "-n376tPz3wCu",
        "outputId": "bfd6ec4a-0904-4526-e48b-4965aaa3dc85"
      },
      "execution_count": 2,
      "outputs": [
        {
          "output_type": "stream",
          "name": "stdout",
          "text": [
            "nisha\n"
          ]
        }
      ]
    },
    {
      "cell_type": "code",
      "source": [
        "print(\"test\")"
      ],
      "metadata": {
        "colab": {
          "base_uri": "https://localhost:8080/"
        },
        "id": "CJ00GpDV4u_L",
        "outputId": "2abeca85-c3ec-4cd2-b3af-147b236ea942"
      },
      "execution_count": 3,
      "outputs": [
        {
          "output_type": "stream",
          "name": "stdout",
          "text": [
            "test\n"
          ]
        }
      ]
    }
  ]
}